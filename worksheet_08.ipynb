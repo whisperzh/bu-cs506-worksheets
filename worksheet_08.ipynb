{
 "cells": [
  {
   "attachments": {},
   "cell_type": "markdown",
   "metadata": {},
   "source": [
    "### Worksheet 08\n",
    "\n",
    "Name:  Renming Zhang\\\n",
    "UID: U97677301\n",
    "\n",
    "### Topics\n",
    "\n",
    "- Soft Clustering\n",
    "- Clustering Aggregation\n",
    "\n",
    "### Probability Review\n",
    "\n",
    "Read through [the following](https://medium.com/@gallettilance/overview-of-probability-3272b72c82c8)\n",
    "\n",
    "### Soft Clustering\n",
    "\n",
    "We generate 10 data points that come from a normal distribution with mean 5 and variance 1."
   ]
  },
  {
   "cell_type": "code",
   "execution_count": 14,
   "metadata": {},
   "outputs": [
    {
     "name": "stdout",
     "output_type": "stream",
     "text": [
      "[3.9752514874879807, 5.732337418344297, 5.194276242157175, 2.840540031772397, 6.305113966397156, 3.8599098562252303, 3.930438953253478, 4.960824374640213, 5.485999408828835, 5.708080245681613]\n"
     ]
    }
   ],
   "source": [
    "import random\n",
    "import numpy as np\n",
    "from sklearn.cluster import KMeans\n",
    "\n",
    "mean = 5\n",
    "stdev = 1\n",
    "\n",
    "c1 = np.random.normal(mean, stdev, 10).tolist()\n",
    "print(c1)"
   ]
  },
  {
   "cell_type": "markdown",
   "metadata": {},
   "source": [
    "a) Generate 10 more data points, this time coming from a normal distribution with mean 8 and variance 1."
   ]
  },
  {
   "cell_type": "code",
   "execution_count": 15,
   "metadata": {},
   "outputs": [
    {
     "name": "stdout",
     "output_type": "stream",
     "text": [
      "[8.921160822253787, 8.748049889480912, 6.624357158908375, 8.944327929632252, 7.408652239035374, 8.636599635740051, 9.095013839084817, 8.08552338178954, 7.733841241058138, 7.123085404627725]\n"
     ]
    }
   ],
   "source": [
    "c2 = np.random.normal( 8, 1 ,10).tolist()\n",
    "print(c2)"
   ]
  },
  {
   "cell_type": "markdown",
   "metadata": {},
   "source": [
    "b) Flip a fair coin 10 times. If the coin lands on H, then pick the last data point of `c1` and remove it from `c1`, if T then pick the last data point from `c2` and remove it from `c2`. Add these 10 points to a list called `data`."
   ]
  },
  {
   "cell_type": "code",
   "execution_count": 16,
   "metadata": {},
   "outputs": [
    {
     "name": "stdout",
     "output_type": "stream",
     "text": [
      "[5.708080245681613, 5.485999408828835, 4.960824374640213, 3.930438953253478, 3.8599098562252303, 6.305113966397156, 2.840540031772397, 5.194276242157175, 7.123085404627725, 5.732337418344297]\n"
     ]
    }
   ],
   "source": [
    "data = []\n",
    "for i in range(10):\n",
    "    # flip coin\n",
    "    coin_output = random.choice([0, 1])\n",
    "    if coin_output == 0:\n",
    "        p1 = c1.pop()\n",
    "        data.append(p1)\n",
    "    else:\n",
    "        p2 = c2.pop()\n",
    "        data.append(p2)\n",
    "print(data)"
   ]
  },
  {
   "cell_type": "markdown",
   "metadata": {},
   "source": [
    "c) This `data` is a Gaussian Mixture Distribution with 2 mixture components. Over the next few questions we will walk through the GMM algorithm to see if we can uncover the parameters we used to generate this data. First, please list all these parameters of the GMM that created `data` and the values we know they have."
   ]
  },
  {
   "cell_type": "markdown",
   "metadata": {},
   "source": [
    "#### 1.Number of Components (K): This is the number of Gaussian distributions in the mixture model. You mentioned there are 2 mixture components.\n",
    "\n",
    "#### 2.Component Weights (π_k): These represent the probabilities of selecting each component. You would need to know the weights of the two components. For instance, π_1 and π_2, and they should sum to 1.\n",
    "\n",
    "#### 3.Means (μ_k): Each component has its own mean, which represents the center of the Gaussian distribution for that component. You would need to know the mean values for both components, denoted as μ_1 and μ_2.\n",
    "\n",
    "#### 4.Covariance Matrices (Σ_k): Each component has its own covariance matrix, which describes the shape and spread of the Gaussian distribution for that component. You would need to know the covariance matrices for both components, denoted as Σ_1 and Σ_2.\n",
    "\n",
    "#### 5.Dimensionality (D): This represents the number of features or dimensions in your data. You would need to know the value of D."
   ]
  },
  {
   "cell_type": "markdown",
   "metadata": {},
   "source": [
    "d) Let's assume there are two mixture components (note: we could plot the data and make the observation that there are two clusters). The EM algorithm asks us to start with a random `mean_j`, `variance_j`, `P(S_j)` for each component j. One method we could use to find sensible values for these is to apply K means with k=2 here.\n",
    "\n",
    "1. the centroids would be the estimates of the `mean_j`\n",
    "2. the intra-cluster variance could be the estimate of `variance_j`\n",
    "3. the proportion of points in each cluster could be the estimate of `P(S_j)`\n",
    "\n",
    "Go through this process and list the parameter estimates it gives. Are they close or far from the true values?"
   ]
  },
  {
   "cell_type": "code",
   "execution_count": 17,
   "metadata": {},
   "outputs": [
    {
     "name": "stdout",
     "output_type": "stream",
     "text": [
      "[3.930438953253478, 3.8599098562252303, 2.840540031772397]\n",
      "[5.708080245681613, 5.485999408828835, 4.960824374640213, 6.305113966397156, 5.194276242157175, 7.123085404627725, 5.732337418344297]\n",
      "P(C_1) = 0.3,  P(C_2) = 0.7\n",
      "mean_1 = 3.5436296137503684,  mean_2 = 5.7871024372395725\n",
      "var_1 = 0.24799653906424932,  var_2 = 0.45532450222451354\n"
     ]
    }
   ],
   "source": [
    "kmeans = KMeans(2, init='k-means++').fit(X=np.array(data).reshape(-1, 1))\n",
    "\n",
    "c1 = [x[0] for x in filter(lambda x: x[1] == 0, zip(data, kmeans.labels_))]\n",
    "print(c1)\n",
    "c2 = [x[0] for x in filter(lambda x: x[1] == 1, zip(data, kmeans.labels_))]\n",
    "print(c2)\n",
    "\n",
    "prob_c = [ len(c1) / (len(c1) + len(c2)) , len(c2) / (len(c1) + len(c2)) ]\n",
    "mean = [ sum(c1)/len(c1) , sum(c2)/len(c2) ]\n",
    "var = [ sum(map(lambda x : (x - mean[0])**2, c1)) / len(c1) , sum(map(lambda x : (x - mean[1])**2, c2)) / len(c2) ]\n",
    "\n",
    "print(\"P(C_1) = \" + str(prob_c[0]) + \",  P(C_2) = \" + str(prob_c[1]))\n",
    "print(\"mean_1 = \" + str(mean[0]) + \",  mean_2 = \" + str(mean[1]))\n",
    "print(\"var_1 = \" + str(var[0]) + \",  var_2 = \" + str(var[1]))"
   ]
  },
  {
   "cell_type": "markdown",
   "metadata": {},
   "source": []
  },
  {
   "cell_type": "markdown",
   "metadata": {},
   "source": [
    "e) For each data point, compute `P(S_j | X_i)`. Comment on which cluster you think each point belongs to based on the estimated probabilities. How does that compare to the truth?"
   ]
  },
  {
   "cell_type": "code",
   "execution_count": 18,
   "metadata": {},
   "outputs": [
    {
     "name": "stdout",
     "output_type": "stream",
     "text": [
      "point =  5.708080245681613\n",
      "probability of observing that point if it came from cluster 0 =  4.630104300966374e-17\n",
      "probability of observing that point if it came from cluster 1 =  0.863075030803411\n",
      "point =  5.485999408828835\n",
      "probability of observing that point if it came from cluster 0 =  7.687209956067425e-14\n",
      "probability of observing that point if it came from cluster 1 =  0.7040907644831222\n",
      "point =  4.960824374640213\n",
      "probability of observing that point if it came from cluster 0 =  1.303842017630707e-07\n",
      "probability of observing that point if it came from cluster 1 =  0.16884664545652642\n",
      "point =  3.930438953253478\n",
      "probability of observing that point if it came from cluster 0 =  0.476642970290783\n",
      "probability of observing that point if it came from cluster 1 =  0.00021478056146357583\n",
      "point =  3.8599098562252303\n",
      "probability of observing that point if it came from cluster 0 =  0.7133052479932452\n",
      "probability of observing that point if it came from cluster 1 =  0.00011284270347016186\n",
      "point =  6.305113966397156\n",
      "probability of observing that point if it came from cluster 0 =  1.9139347283407794e-27\n",
      "probability of observing that point if it came from cluster 1 =  0.45870573331964254\n",
      "point =  2.840540031772397\n",
      "probability of observing that point if it came from cluster 0 =  0.028913916801375533\n",
      "probability of observing that point if it came from cluster 1 =  7.060371434971131e-10\n",
      "point =  5.194276242157175\n",
      "probability of observing that point if it came from cluster 0 =  3.8596518810213085e-10\n",
      "probability of observing that point if it came from cluster 1 =  0.3753945861655549\n",
      "point =  7.123085404627725\n",
      "probability of observing that point if it came from cluster 0 =  9.31369959351529e-46\n",
      "probability of observing that point if it came from cluster 1 =  0.011834173168524692\n",
      "point =  5.732337418344297\n",
      "probability of observing that point if it came from cluster 0 =  1.9622911915367145e-17\n",
      "probability of observing that point if it came from cluster 1 =  0.8698566275613787\n",
      "5.708080245681613\n",
      "Probability of coming from C_1 = 5.3646602389323526e-17\n",
      "Probability of coming from C_2 = 1.0\n",
      "\n",
      "5.485999408828835\n",
      "Probability of coming from C_1 = 1.0917924710616391e-13\n",
      "Probability of coming from C_2 = 0.9999999999999533\n",
      "\n",
      "4.960824374640213\n",
      "Probability of coming from C_1 = 7.722046136040242e-07\n",
      "Probability of coming from C_2 = 0.9999996690551656\n",
      "\n",
      "3.930438953253478\n",
      "Probability of coming from C_1 = 2.3308825836048395\n",
      "Probability of coming from C_2 = 0.001050321312211742\n",
      "\n",
      "3.8599098562252303\n",
      "Probability of coming from C_1 = 2.3324723567221293\n",
      "Probability of coming from C_2 = 0.00036898997623025664\n",
      "\n",
      "6.305113966397156\n",
      "Probability of coming from C_1 = 4.1724674215202824e-27\n",
      "Probability of coming from C_2 = 1.0\n",
      "\n",
      "2.840540031772397\n",
      "Probability of coming from C_1 = 2.333333200387672\n",
      "Probability of coming from C_2 = 5.697671190470865e-08\n",
      "\n",
      "5.194276242157175\n",
      "Probability of coming from C_1 = 1.028158642015798e-09\n",
      "Probability of coming from C_2 = 0.9999999995593606\n",
      "\n",
      "7.123085404627725\n",
      "Probability of coming from C_1 = 7.870173488999554e-44\n",
      "Probability of coming from C_2 = 1.0\n",
      "\n",
      "5.732337418344297\n",
      "Probability of coming from C_1 = 2.255878876313156e-17\n",
      "Probability of coming from C_2 = 1.0\n",
      "\n"
     ]
    }
   ],
   "source": [
    "from scipy.stats import norm\n",
    "\n",
    "prob_c0_x = [] # P(C_0 | X_i)\n",
    "prob_c1_x = [] # P(C_1 | X_i)\n",
    "prob_x = [] # P(X_i)\n",
    "\n",
    "k = 2\n",
    "\n",
    "for p in data:\n",
    "    print(\"point = \", p)\n",
    "    pdf_i = []\n",
    "\n",
    "    for j in range(k):\n",
    "        # P(X_i | C_j)\n",
    "        pdf_i.append(norm.pdf(p, mean[j], var[j]))\n",
    "        print(\"probability of observing that point if it came from cluster \" + str(j) + \" = \", pdf_i[j])\n",
    "        # P(C_j) already computed\n",
    "        prob_c[j]\n",
    "\n",
    "    # P(X_i) = P(C_0)P(X_i | C_0) + P(C_1)P(X_i | C_1)\n",
    "    prob_x = prob_c[0] * pdf_i[0] + prob_c[1] * pdf_i[1]\n",
    "\n",
    "    # P(C_j | X_i) = P(X_i | C_j)P(C_j) / P(X_i)\n",
    "    prob_c0_x.append( pdf_i[0] * prob_c[1] / prob_x )\n",
    "    prob_c1_x.append( pdf_i[1] * prob_c[1] / prob_x )\n",
    "\n",
    "probs = zip(data, prob_c0_x, prob_c1_x)\n",
    "for p in probs:\n",
    "    print(p[0])\n",
    "    print(\"Probability of coming from C_1 = \" + str(p[1]))\n",
    "    print(\"Probability of coming from C_2 = \" + str(p[2]))\n",
    "    print()"
   ]
  },
  {
   "cell_type": "markdown",
   "metadata": {},
   "source": [
    "f) Having computed `P(S_j | X_i)`, update the estimates of `mean_j`, `var_j`, and `P(S_j)`. How different are these values from the original ones you got from K means? briefly comment."
   ]
  },
  {
   "cell_type": "code",
   "execution_count": 19,
   "metadata": {},
   "outputs": [
    {
     "name": "stdout",
     "output_type": "stream",
     "text": [
      "P(C_1) = 0.6996688913947523,  P(C_2) = 0.7001419036879633\n",
      "mean_1 = 3.543455375156122,  mean_2 = 5.7867223568402695\n",
      "var_1 = 0.24804936440477646,  var_2 = 0.45594498455967664\n"
     ]
    }
   ],
   "source": [
    "prob_c = [sum(prob_c0_x) / len(prob_c0_x), sum(prob_c1_x) / len(prob_c1_x)]\n",
    "mean = [sum([x[0] * x[1] for x in zip(prob_c0_x, data)]) / sum(prob_c0_x), sum([x[0] * x[1] for x in zip(prob_c1_x, data)]) / sum(prob_c1_x)]\n",
    "var = [sum([prob_c0_x[i] * (data[i] - mean[0])**2 for i in range(len(data))]) / sum(prob_c0_x), sum([prob_c1_x[i] * (data[i] - mean[1])**2 for i in range(len(data))]) / sum(prob_c1_x)]\n",
    "\n",
    "print(\"P(C_1) = \" + str(prob_c[0]) + \",  P(C_2) = \" + str(prob_c[1]))\n",
    "print(\"mean_1 = \" + str(mean[0]) + \",  mean_2 = \" + str(mean[1]))\n",
    "print(\"var_1 = \" + str(var[0]) + \",  var_2 = \" + str(var[1]))"
   ]
  },
  {
   "cell_type": "markdown",
   "metadata": {},
   "source": []
  },
  {
   "cell_type": "markdown",
   "metadata": {},
   "source": [
    "g) Update `P(S_j | X_i)`. Comment on any differences or lack thereof you observe."
   ]
  },
  {
   "cell_type": "code",
   "execution_count": 20,
   "metadata": {},
   "outputs": [
    {
     "name": "stdout",
     "output_type": "stream",
     "text": [
      "5.708080245681613\n",
      "Probability of coming from C_1 = 5.4206283753106104e-17\n",
      "Probability of coming from C_2 = 1.0\n",
      "\n",
      "5.485999408828835\n",
      "Probability of coming from C_1 = 1.0993409147111151e-13\n",
      "Probability of coming from C_2 = 0.9999999999998901\n",
      "\n",
      "4.960824374640213\n",
      "Probability of coming from C_1 = 7.702180188446873e-07\n",
      "Probability of coming from C_2 = 0.9999992297819812\n",
      "\n",
      "3.930438953253478\n",
      "Probability of coming from C_1 = 0.9995376819087685\n",
      "Probability of coming from C_2 = 0.0004623180912314768\n",
      "\n",
      "3.8599098562252303\n",
      "Probability of coming from C_1 = 0.9998373434913729\n",
      "Probability of coming from C_2 = 0.00016265650862714055\n",
      "\n",
      "6.305113966397156\n",
      "Probability of coming from C_1 = 4.249283603042448e-27\n",
      "Probability of coming from C_2 = 1.0\n",
      "\n",
      "2.840540031772397\n",
      "Probability of coming from C_1 = 0.9999999741190138\n",
      "Probability of coming from C_2 = 2.588098623624625e-08\n",
      "\n",
      "5.194276242157175\n",
      "Probability of coming from C_1 = 1.0300553535618809e-09\n",
      "Probability of coming from C_2 = 0.9999999989699445\n",
      "\n",
      "7.123085404627725\n",
      "Probability of coming from C_1 = 8.072896480021361e-44\n",
      "Probability of coming from C_2 = 1.0\n",
      "\n",
      "5.732337418344297\n",
      "Probability of coming from C_1 = 2.2802404377055017e-17\n",
      "Probability of coming from C_2 = 1.0\n",
      "\n"
     ]
    }
   ],
   "source": [
    "prob_c0_x = []\n",
    "prob_c1_x = []\n",
    "\n",
    "for p in data:\n",
    "    pdf_i = [norm.pdf(p, mean[j], var[j]) for j in range(k)]\n",
    "    prob_x = prob_c[0] * pdf_i[0] + prob_c[1] * pdf_i[1]\n",
    "\n",
    "    prob_c0_x.append(pdf_i[0] * prob_c[0] / prob_x)\n",
    "    prob_c1_x.append(pdf_i[1] * prob_c[1] / prob_x)\n",
    "\n",
    "probs = zip(data, prob_c0_x, prob_c1_x)\n",
    "for p in probs:\n",
    "    print(p[0])\n",
    "    print(\"Probability of coming from C_1 = \" + str(p[1]))\n",
    "    print(\"Probability of coming from C_2 = \" + str(p[2]))\n",
    "    print()"
   ]
  },
  {
   "cell_type": "markdown",
   "metadata": {},
   "source": []
  },
  {
   "cell_type": "markdown",
   "metadata": {},
   "source": [
    "h) Use `P(S_j | X_i)` to create a hard assignment - label each point as belonging to a specific cluster (0 or 1)"
   ]
  },
  {
   "cell_type": "code",
   "execution_count": 21,
   "metadata": {},
   "outputs": [
    {
     "name": "stdout",
     "output_type": "stream",
     "text": [
      "[1, 1, 1, 0, 0, 1, 0, 1, 1, 1]\n"
     ]
    }
   ],
   "source": [
    "labels = [0 if prob_c0_x[i] > prob_c1_x[i] else 1 for i in range(len(data))]\n",
    "print(labels)"
   ]
  }
 ],
 "metadata": {
  "kernelspec": {
   "display_name": "Python 3",
   "language": "python",
   "name": "python3"
  },
  "language_info": {
   "codemirror_mode": {
    "name": "ipython",
    "version": 3
   },
   "file_extension": ".py",
   "mimetype": "text/x-python",
   "name": "python",
   "nbconvert_exporter": "python",
   "pygments_lexer": "ipython3",
   "version": "3.9.13"
  },
  "orig_nbformat": 4,
  "vscode": {
   "interpreter": {
    "hash": "e7370f93d1d0cde622a1f8e1c04877d8463912d04d973331ad4851f04de6915a"
   }
  }
 },
 "nbformat": 4,
 "nbformat_minor": 2
}
