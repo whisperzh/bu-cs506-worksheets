{
 "cells": [
  {
   "attachments": {},
   "cell_type": "markdown",
   "metadata": {},
   "source": [
    "# Worksheet 02\n",
    "\n",
    "Name:  Renming Zhang\n",
    "UID: U97677301\n",
    "\n",
    "### Topics\n",
    "\n",
    "- Effective Programming\n",
    "\n",
    "### Effective Programming\n",
    "\n",
    "a) What is a drawback of the top down approach?"
   ]
  },
  {
   "cell_type": "markdown",
   "metadata": {},
   "source": [
    "1) Delayed Implementation: Starting with high-level design and planning before coding individual modules or functions can lead to delayed implementation. This can result in longer development cycles and potentially slower response to changing requirements or user feedback.\n",
    "\n",
    "2) Difficulty Managing Complex Logic: Handling complex algorithms or intricate program logic can be challenging when using a top-down approach. Breaking down complex problems into smaller, manageable pieces from a high-level perspective may not be straightforward, leading to code that is harder to understand, maintain, and debug.\n",
    "\n",
    "3) Potential for Inefficient Solutions: In some cases, a top-down approach may lead to less efficient solutions. When you design the overall structure of a program before considering the specific implementation details, you may overlook opportunities for optimization or fail to consider alternative, more efficient approaches to solving a particular problem. This can result in software that consumes more resources than necessary or performs poorly."
   ]
  },
  {
   "cell_type": "markdown",
   "metadata": {},
   "source": [
    "b) What is a drawback of the bottom up approach?"
   ]
  },
  {
   "cell_type": "markdown",
   "metadata": {},
   "source": [
    "1) Initial Lack of High-Level Design: The bottom-up approach can initially lack a clear high-level design, making it challenging to ensure that individual components integrate seamlessly into a coherent system.\n",
    "\n",
    "2) Potential for Missed System-Wide Optimization: By focusing on small components first, developers might miss opportunities for system-wide optimizations that could have been identified with a more holistic approach."
   ]
  },
  {
   "cell_type": "markdown",
   "metadata": {},
   "source": [
    "c) What are 3 things you can do to have a better debugging experience?"
   ]
  },
  {
   "cell_type": "markdown",
   "metadata": {},
   "source": [
    "1) Take breaks.\n",
    "2) Do double check with the Code.\n",
    "3)  Search for online solutions"
   ]
  },
  {
   "attachments": {},
   "cell_type": "markdown",
   "metadata": {},
   "source": [
    "d) Follow along with the live coding. You can write your code here:"
   ]
  },
  {
   "cell_type": "code",
   "execution_count": 6,
   "metadata": {},
   "outputs": [
    {
     "name": "stdout",
     "output_type": "stream",
     "text": [
      "Q _ _ _ _ _ _ _\n",
      "_ _ _ _ _ _ Q _\n",
      "_ _ _ _ Q _ _ _\n",
      "_ _ _ _ _ _ _ Q\n",
      "_ Q _ _ _ _ _ _\n",
      "_ _ _ Q _ _ _ _\n",
      "_ _ _ _ _ Q _ _\n",
      "_ _ Q _ _ _ _ _\n"
     ]
    }
   ],
   "source": [
    "\n",
    "N = 8 # (size of the chessboard)\n",
    "\n",
    "\n",
    "def display(board):\n",
    "    for i in board:\n",
    "        line=[]\n",
    "        for j in i:\n",
    "            line.append('Q' if j==1 else '_')\n",
    "        line=' '.join(line)\n",
    "        print(line)\n",
    "            \n",
    "\n",
    "def solveNQueens(board, col):\n",
    "    if col == N:\n",
    "        # for line in board:\n",
    "        #     print(line)\n",
    "        display(board)\n",
    "\n",
    "        return True\n",
    "    for i in range(N):\n",
    "        if isSafe(board, i, col):\n",
    "            board[i][col] = 1\n",
    "            if solveNQueens(board, col + 1):\n",
    "                return True\n",
    "            board[i][col] = 0\n",
    "    return False\n",
    " \n",
    "def isSafe(board, row, col):\n",
    "    for x in range(col):\n",
    "        if board[row][x] == 1:\n",
    "            return False\n",
    "    for x, y in zip(range(row, -1, -1), range(col, -1, -1)):\n",
    "        if board[x][y] == 1:\n",
    "            return False\n",
    "    for x, y in zip(range(row, N, 1), range(col, -1, -1)):\n",
    "        if board[x][y] == 1:\n",
    "            return False\n",
    "    return True\n",
    " \n",
    "board = [[0 for x in range(N)] for y in range(N)]\n",
    "if not solveNQueens(board, 0):\n",
    "    print(\"No solution found\")"
   ]
  }
 ],
 "metadata": {
  "kernelspec": {
   "display_name": "Python 3",
   "language": "python",
   "name": "python3"
  },
  "language_info": {
   "codemirror_mode": {
    "name": "ipython",
    "version": 3
   },
   "file_extension": ".py",
   "mimetype": "text/x-python",
   "name": "python",
   "nbconvert_exporter": "python",
   "pygments_lexer": "ipython3",
   "version": "3.9.13"
  },
  "orig_nbformat": 4,
  "vscode": {
   "interpreter": {
    "hash": "76ca05dc3ea24b2e3b98cdb7774adfbb40773424bf5109b477fd793f623715af"
   }
  }
 },
 "nbformat": 4,
 "nbformat_minor": 2
}
